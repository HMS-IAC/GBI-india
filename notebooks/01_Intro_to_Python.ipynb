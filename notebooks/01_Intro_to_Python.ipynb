{
 "cells": [
  {
   "cell_type": "code",
   "execution_count": 2,
   "id": "9f33553a",
   "metadata": {
    "jupyter": {
     "source_hidden": true
    }
   },
   "outputs": [],
   "source": [
    "# /// script\n",
    "# requires-python = \">=3.10\"\n",
    "# ///\n",
    "\n",
    "# Standard library imports (no need to declare in dependencies)\n",
    "import random\n",
    "import statistics as stats\n",
    "from datetime import date"
   ]
  },
  {
   "cell_type": "markdown",
   "id": "16a60488",
   "metadata": {},
   "source": [
    "# *Intro to Python – Global BioImaging Data Course - Pune, India*\n",
    "\n",
    "[![Open In Colab](https://colab.research.google.com/assets/colab-badge.svg)](https://colab.research.google.com/github/HMS-IAC/GBI-india/blob/main/notebooks/01_Intro_to_Python.ipynb)\n",
    "\n",
    "Welcome to first step in Python!  \n",
    "This notebook is written **like a small interactive book**: you will read, explore, and _do_.\n",
    "\n",
    "> **Who is this for?**  \n",
    "> Anyone who has Python or Jupyter installed and wants to move from “I can run cells” to **“I can write programs.”**\n",
    "\n",
    "> **Why Python?**  \n",
    "> * Readability first – its syntax looks like pseudocode.  \n",
    "> * A giant ecosystem – from data science (`pandas`, `scipy`) to machine learning (`scikit-learn`, `pytorch`, `tensorflow`) to hardware (`pymmcore`).  \n",
    "> * Batteries included – the standard library gives you file I/O, HTTP clients, math, testing, and more.\n",
    "\n",
    "> **In bioimage analysis, Python helps automate tasks like:**\n",
    "> * loading and processing large image datasets,\n",
    "> * applying filters and segmentations,\n",
    "> * extracting features, and\n",
    "> * visualizing results.\n",
    "\n",
    "You will learn **core building blocks**:\n",
    "\n",
    "| Chapter | Concept | Why it matters |\n",
    "|---------|---------|----------------|\n",
    "| 0 | Introduction | Python, environment, and Jupyter noteboks |\n",
    "| 1 | Variables and data types | Store and label information so programs remember things |\n",
    "| 2 | Data structures | Understand the different types of data in Python |\n",
    "| 3 | Functions | Package logic into reusable, testable pieces |\n",
    "| 4 | Control Flow with `if`/`else` | Make decisions and branch logic |\n",
    "| 5 | Control Flow with `for` | Repeat work without copy‑pasting |\n",
    "| 6 | Mini project | Your turn! |\n",
    "\n",
    "\n",
    "Each chapter has:\n",
    "\n",
    "1. **Narrative explanation** – read this like a textbook.\n",
    "2. **Live demo** – run and play.\n",
    "3. **Exercise** – _your turn_, _guess the output!_ & _mini projects_ ✅ \n"
   ]
  },
  {
   "cell_type": "markdown",
   "id": "813a6237",
   "metadata": {},
   "source": [
    "---\n",
    "## 0. Python, environment, and Jupyter noteboks\n",
    "\n",
    "### Python is a general-purpose programming language.\n",
    "\n",
    "When choosing a programming language, context matters. Here's how **Python** stacks up against **R** and **Java** in bioimage analysis and scientific computing:\n",
    "\n",
    "| Feature | **Python** | **R** | **Java** |\n",
    "|--------|------------|-------|----------|\n",
    "| **Learning Curve** | Gentle – readable syntax, beginner-friendly | Steep for programming, but easy for statistics | Steep – verbose syntax, strong typing |\n",
    "| **Primary Strengths** | General-purpose, excellent for data analysis, scripting, and automation | Specialized for statistics and plotting | Fast performance, robust for large systems |\n",
    "| **Bioimage Support** | Strong (`scikit-image`, `napari`, `cellpose`, etc.) | Limited; mostly via third-party packages or Python bridges | Used in tools like ImageJ/Fiji, but not for prototyping |\n",
    "| **Speed** | Fast enough for most tasks; easy to optimize | Slower; often relies on calling C/C++ under the hood | High performance; suitable for computationally intensive tasks |\n",
    "| **Community & Ecosystem** | Massive, with libraries in AI, biology, and automation | Strong in statistics and epidemiology | Strong in engineering and enterprise |\n",
    "| **Use Case Fit** | Ideal for scripting analysis pipelines and integrating tools | Great for exploratory statistics and quick plots | Better for building plugins or standalone software tools |\n",
    "\n",
    "**In summary**:  \n",
    "- Python strikes a balance between ease of use and power. If you want to explore data, prototype tools, or glue systems together, Python excels.  \n",
    "- R is great when your work is statistical in nature.  \n",
    "- Java is more suited to performance-critical or plugin-based environments like ImageJ.\n"
   ]
  },
  {
   "cell_type": "markdown",
   "id": "15dc798c",
   "metadata": {},
   "source": [
    "### What is a Python Environment?\n",
    "\n",
    "**Analogy: Imaging Setup**\n",
    "\n",
    "Think of a Python environment as a virtual imaging setup:\n",
    "- Your microscope needs a specific objective, filters, and settings to work for a particular experiment.\n",
    "- Similarly, your Python project needs certain packages, tools, and versions to run correctly.\n",
    "\n",
    "\n",
    "Environments help keep these project-specific tools isolated and clean, so:\n",
    "- Project A (image segmentation) doesn't break when you install tools for Project B (deep learning).\n",
    "\n",
    "**How to Create an Environment (Optional)**\n",
    "\n",
    "> Not covered in this course, because we are using Google Colab.\n",
    "\n",
    "Using uv:\n",
    "```\n",
    "uv venv --python 3.10\n",
    "uv pip install package1 package2\n",
    "```\n",
    "\n",
    "Using conda:\n",
    "```\n",
    "conda create --name bioimage-env python=3.10\n",
    "conda activate bioimage-env\n",
    "```\n",
    "\n",
    "Note: uv is faster, more compatible, and more secure.\n",
    "Note: a requirements.txt file is typically used to specify the dependencies for a project, and can then be used to create an environment with uv e.g. `uv pip install -r requirements.txt`.\n"
   ]
  },
  {
   "cell_type": "markdown",
   "id": "8f30b42a",
   "metadata": {},
   "source": [
    "### Using Jupyter Notebooks\n",
    "**What is Jupyter?**\n",
    "\n",
    "Jupyter Notebooks are like lab notebooks for code:\n",
    "\n",
    "- You write and test code in cells.\n",
    "- You can mix code, text, images, and results in one document.\n",
    "- It's a quick way to prototype and share code, but is not production code!\n",
    "\n",
    "**How to Open Jupyter?**\n",
    "\n",
    "Using Anaconda Navigator:\n",
    "- Click on \"Launch\" under Jupyter Notebook.\n",
    "\n",
    "Using Terminal:\n",
    "\n",
    "```jupyter notebook```"
   ]
  },
  {
   "cell_type": "markdown",
   "id": "3dc95a1a",
   "metadata": {},
   "source": [
    "---\n",
    "## 1. Variables and primitive data types"
   ]
  },
  {
   "cell_type": "markdown",
   "id": "8a24d030",
   "metadata": {},
   "source": [
    "**Concept.**  \n",
    "A *variable* is a labeled box that can hold any Python object.  \n",
    "Because Python is **dynamically typed**, the label does _not_ declare a type – the object itself knows its type.\n",
    "\n",
    "```\n",
    "┌─────────────────────────────┐\n",
    "│ label: `pixel_intensity`    │\n",
    "└──────────────┬──────────────┘\n",
    "               ↓\n",
    "     ┌────────────────────┐\n",
    "     │ object: 3883.03     │\n",
    "     │        (float)      │\n",
    "     └────────────────────┘\n",
    "```\n",
    "\n",
    "### Naming matters  \n",
    "* Use lowercase_with_underscores (`number_of_cells` or `cell_number`).  \n",
    "* Be descriptive: `temperature_c` > `t`. Code is read by humans far more than by machines.\n",
    "\n",
    "### Mutability & Identity  \n",
    "Variables can be rebound:\n",
    "\n",
    "```python\n",
    "pixel_intensity = 3883.03\n",
    "pixel_intensity = \"high_intensity\"  # ↓ the label now points elsewhere and to another type!\n",
    "```\n",
    "\n",
    "But some objects themselves can change (lists) – we call this **mutability**.  \n"
   ]
  },
  {
   "cell_type": "markdown",
   "id": "3f22cab7",
   "metadata": {},
   "source": [
    "**Concept.**\n",
    "Python's *primitive (built‑in)* data types are:\n",
    "\n",
    "* `int`, `float` – numbers\n",
    "  - `int`: Whole numbers like -1, 0, 42 (e.g. `z_slice = 30`)\n",
    "  - `float`: Decimal numbers like 3.14, -0.001 (e.g. `pixel_size = 0.25`)\n",
    "\n",
    "* `str` – text\n",
    "  - Sequences of characters in single/double quotes\n",
    "  - Examples: \"hello\", 'world', \"123\", \"GFP.tif\"\n",
    "\n",
    "* `bool` – truth values (`True`, `False`)\n",
    "  - Used for logical operations and control flow\n",
    "  - Result of comparisons like ==, >, <\n",
    "  - Examples: True, False (e.g. `is_segmented = True`)\n",
    "\n",
    "* `None` – explicit \"nothing\"\n",
    "  - Represents absence of a value\n",
    "  - Common default return value for functions"
   ]
  },
  {
   "cell_type": "markdown",
   "id": "d3ffac9a",
   "metadata": {},
   "source": [
    "Example:"
   ]
  },
  {
   "cell_type": "code",
   "execution_count": null,
   "id": "7d3b4937",
   "metadata": {},
   "outputs": [],
   "source": [
    "# A string (text)\n",
    "filename = \"cell_image.tif\"\n",
    "\n",
    "# An integer (whole number)\n",
    "num_slices = 30\n",
    "\n",
    "# A float (decimal)\n",
    "pixel_size = 0.25  # in micrometers\n",
    "\n",
    "# A boolean (True/False)\n",
    "is_segmented = True"
   ]
  },
  {
   "cell_type": "markdown",
   "id": "6b651854",
   "metadata": {},
   "source": [
    "### ✍️ Exercise\n",
    "Create two string variables:\n",
    "\n",
    "* `channel_name` (the name of your favorite imaging channel) e.g. CY5\n",
    "* `stain_name` (the name of your favorite stain) e.g. Ki67\n",
    "\n",
    "Then print: e.g. “**Ki67 is imaged using the CY5 channel.**”  \n",
    "\n",
    "Hint: Use an f‑string. f-string is a way to embed variables inside string literals, using curly braces `{}`."
   ]
  },
  {
   "cell_type": "code",
   "execution_count": null,
   "id": "7505d7e6",
   "metadata": {},
   "outputs": [],
   "source": [
    "# write your code here\n",
    "\n",
    "channel_name = 'CY5'\n",
    "stain_name = 'Ki67'\n",
    "print(f'{stain_name} is imaged using the {channel_name} channel.')"
   ]
  },
  {
   "cell_type": "markdown",
   "id": "fcf30588",
   "metadata": {},
   "source": [
    "---\n",
    "## 2. Data Structures"
   ]
  },
  {
   "cell_type": "markdown",
   "id": "c5317c0e",
   "metadata": {},
   "source": [
    "* **Containers** – `list`, `tuple`, `set`, and `dict`\n",
    "  - `list`: Ordered, mutable sequences [1, 2, 3]\n",
    "  - `tuple`: Ordered, immutable sequences (1, 2, 3)\n",
    "  - `set`: Unordered collection of unique items {1, 2, 3}\n",
    "  - `dict`: Key-value pairs {\"a\": 1, \"b\": 2}"
   ]
  },
  {
   "cell_type": "code",
   "execution_count": null,
   "id": "e23b3adc",
   "metadata": {},
   "outputs": [],
   "source": [
    "channel_colors = {\"GFP\": \"green\", \"CY5\": \"red\"}\n",
    "gfp_color = channel_colors.get(\"GFP\") # use .get() to avoid KeyError (if the key is not found)\n",
    "print(gfp_color)"
   ]
  },
  {
   "cell_type": "markdown",
   "id": "77d2c087",
   "metadata": {},
   "source": [
    "**Lists – Ordered Collections:**\n",
    "A list holds a collection of items like a channel stack."
   ]
  },
  {
   "cell_type": "code",
   "execution_count": null,
   "id": "3bd39bed",
   "metadata": {},
   "outputs": [],
   "source": [
    "# Example 1:\n",
    "\n",
    "channels = [\"DAPI\", \"GFP\", \"RFP\"]\n",
    "print(channels[0])  # DAPI\n",
    "print(len(channels))  # 3\n",
    "\n",
    "\n",
    "# Example 2:\n",
    "\n",
    "image = [[1, 2, 3, 4],\n",
    "         [5, 6, 7, 8]]\n",
    "\n",
    "print(image)  # (2,4)"
   ]
  },
  {
   "cell_type": "markdown",
   "id": "741c1861",
   "metadata": {},
   "source": [
    "**Tuples – Fixed-size Groupings:**\n",
    "Tuples are like lists but immutable (can’t be changed). Useful for things like storing important information e.g. image shape."
   ]
  },
  {
   "cell_type": "code",
   "execution_count": null,
   "id": "d9efdaf3",
   "metadata": {},
   "outputs": [],
   "source": [
    "image_dimensions = (512, 512)\n",
    "print(image_dimensions[1])  # 512 (width)"
   ]
  },
  {
   "cell_type": "markdown",
   "id": "9164d768",
   "metadata": {},
   "source": [
    "Used for pixel dimensions, coordinates, etc."
   ]
  },
  {
   "cell_type": "markdown",
   "id": "314f94b1",
   "metadata": {},
   "source": [
    "A **dictionary** is an *associative array* (hash map) mapping _keys_ → _values_. Hashmaps are a fundamental data structure in computer science, and are implemented in Python as dictionaries. \n",
    "\n",
    "```python\n",
    "channel_colors = {\"GFP\": \"green\", \"CY5\": \"red\"}\n",
    "```\n",
    "\n",
    "Dictionaries map keys to values, like an image’s metadata."
   ]
  },
  {
   "cell_type": "code",
   "execution_count": null,
   "id": "659e0969",
   "metadata": {},
   "outputs": [],
   "source": [
    "image_metadata = {\n",
    "    \"filename\": \"sample001.tif\",\n",
    "    \"dimensions\": (2, 1024, 1024),\n",
    "    \"pixel_size\": 0.2,\n",
    "    \"channels\": [\"DAPI\", \"GFP\"]\n",
    "}\n",
    "\n",
    "print(image_metadata[\"channels\"])  # ['DAPI', 'GFP']"
   ]
  },
  {
   "cell_type": "markdown",
   "id": "6643031f",
   "metadata": {},
   "source": [
    "### ✍️ Exercise: guess the output!\n",
    "Predict what will be printed:\n",
    "\n",
    "```python\n",
    "nums = [1, 2, 3]\n",
    "alias = nums\n",
    "alias.append(4)\n",
    "print('nums:', nums)\n",
    "print('alias:', alias)\n",
    "```\n",
    "\n",
    "*Will the two lists differ? Why/why not? Is 4 added to the beginning of the list?* "
   ]
  },
  {
   "cell_type": "code",
   "execution_count": null,
   "id": "c7a56c23",
   "metadata": {},
   "outputs": [],
   "source": [
    "nums = [1, 2, 3]\n",
    "alias = nums\n",
    "alias.append(4)        # add 4 to the list\n",
    "print('nums:', nums)   # [1, 2, 3, 4]\n",
    "print('alias:', alias) # identical; alias points to same list object"
   ]
  },
  {
   "cell_type": "markdown",
   "id": "dd6e2c79",
   "metadata": {},
   "source": [
    "*Follow up: what if we use `nums = alias` instead of `alias = nums`?*"
   ]
  },
  {
   "cell_type": "code",
   "execution_count": null,
   "id": "4a4a431e",
   "metadata": {},
   "outputs": [],
   "source": [
    "nums = alias\n",
    "print('nums:', nums)   # [1, 2, 3, 4]\n",
    "print('alias:', alias) # identical; alias points to same list object"
   ]
  },
  {
   "cell_type": "markdown",
   "metadata": {},
   "source": [
    "*Follow up: how to get the number of elements in `nums`?*\n",
    "\n",
    "Hint: use the `len` function."
   ]
  },
  {
   "cell_type": "code",
   "execution_count": null,
   "id": "b368b50d",
   "metadata": {},
   "outputs": [],
   "source": [
    "len(nums)\n",
    "# 4"
   ]
  },
  {
   "cell_type": "markdown",
   "id": "17ce9d07",
   "metadata": {},
   "source": [
    "### ✍️ Exercise: your turn!\n",
    "Create and print variables:"
   ]
  },
  {
   "cell_type": "code",
   "execution_count": null,
   "id": "cfbeb055",
   "metadata": {},
   "outputs": [],
   "source": [
    "sample_name = \"embryo_02\"\n",
    "z_planes = 40\n",
    "pixel_spacing = 0.32\n",
    "is_noise_filtered = False\n",
    "\n",
    "# print the depth of the imaged sample\n",
    "# print(f\"Total length of the sample: {z_planes * pixel_spacing} um\")"
   ]
  },
  {
   "cell_type": "markdown",
   "id": "d316393f",
   "metadata": {},
   "source": [
    "Work with a list: "
   ]
  },
  {
   "cell_type": "code",
   "execution_count": null,
   "id": "b588f5ff",
   "metadata": {},
   "outputs": [],
   "source": [
    "fluorophores = [\"Hoechst\", \"GFP\", \"mCherry\"]\n",
    "\n",
    "# print the third fluorophore in the list\n",
    "print(fluorophores[2])  # mCherry\n",
    "\n",
    "# add a new fluorophore to the list and print the updated list\n",
    "fluorophores.append(\"Alexa647\")\n",
    "print(fluorophores)\n",
    "\n",
    "# remove the first fluorophore from the list and print the updated list\n",
    "# Hint: use the `pop` method to remove the fluorophore at index 0\n",
    "fluorophores.pop(0)\n",
    "print(fluorophores)\n",
    "\n",
    "# remove the fluorophore at index 1 and print the updated list\n",
    "fluorophores.pop(1)\n",
    "print(fluorophores)"
   ]
  },
  {
   "cell_type": "markdown",
   "id": "4edcb9fa",
   "metadata": {},
   "source": [
    "---\n",
    "## 3. Functions ‑ Reusable verbs"
   ]
  },
  {
   "cell_type": "markdown",
   "id": "4326bb68",
   "metadata": {},
   "source": [
    "**Concept.**  \n",
    "A *function* groups statements, giving them a **name**, **inputs** (parameters), and **output** (return value).\n",
    "\n",
    "\n",
    "Syntax of a function definition:\n",
    "```python\n",
    "def function_name(parameters):\n",
    "    \"\"\"Docstring\"\"\"\n",
    "    return value\n",
    "```\n",
    "\n",
    "Then, call the function with the `function_name(arguments)`.\n",
    "\n",
    "Note: A parameter is a variable named in the function or method definition. It acts as a placeholder for the data the function will use. An argument is the actual value that is passed to the function or method when it is called.\n",
    "\n",
    "Why it matters:\n",
    "\n",
    "* **Reuse** – write once, call everywhere.  \n",
    "* **Testing** – functions are the unit of testability.  \n",
    "* **Abstraction** – hide complexity behind a simple interface.\n",
    "\n",
    " ```python\n",
    " def calculate_gc_content(dna_sequence):\n",
    "     \"\"\"Calculate the GC content percentage of a DNA sequence.\"\"\"\n",
    "     gc_count = dna_sequence.count('G') + dna_sequence.count('C')\n",
    "     total_bases = len(dna_sequence)\n",
    "     return (gc_count / total_bases) * 100\n",
    " ```\n",
    "\n",
    ">*Docstrings* become the function’s documentation (try running `help(fahrenheit_to_celsius)` to see it). It's a good practice to include a docstring for every function you write, as it helps you and others understand what the function does."
   ]
  },
  {
   "cell_type": "markdown",
   "id": "bb5663f9",
   "metadata": {},
   "source": [
    "Example from imaging:\n",
    "\n",
    "This simulates how you might categorize images based on brightness levels."
   ]
  },
  {
   "cell_type": "code",
   "execution_count": null,
   "metadata": {},
   "outputs": [],
   "source": [
    "intensity = 120\n",
    "\n",
    "if intensity > 200:\n",
    "    print(\"Very bright image\")\n",
    "elif intensity > 100:\n",
    "    print(\"Moderately bright image\")\n",
    "else:\n",
    "    print(\"Dark image\")"
   ]
  },
  {
   "cell_type": "markdown",
   "id": "5e617117",
   "metadata": {},
   "source": [
    "### ✍️ Exercise: guess the output!\n",
    "\n",
    "Predict what will be printed:\n",
    "\n",
    "```python\n",
    "def foo(base):\n",
    "    \"\"\"What does this function do?\"\"\"\n",
    "    base_map = {\"A\": \"T\", \"T\": \"A\", \"C\": \"G\", \"G\": \"C\"}\n",
    "    return base_map[base]\n",
    "\n",
    "def foofoo(triplet):\n",
    "    \"\"\"What does this function do?\"\"\"\n",
    "    return foo(triplet[0]) + foo(triplet[1]) + foo(triplet[2])\n",
    "\n",
    "dna_list = [\"GTA\", \"ACC\", \"TTT\"]\n",
    "\n",
    "result1 = foofoo(dna_list[0])\n",
    "result2 = foofoo(dna_list[1])\n",
    "result3 = foofoo(\"CGT\")\n",
    "\n",
    "print(result1)\n",
    "print(result2)\n",
    "print(result3)\n",
    "```"
   ]
  },
  {
   "cell_type": "markdown",
   "id": "119035d3",
   "metadata": {},
   "source": [
    "*What does the function does to DNA codons?*\n",
    "\n",
    "Output:\n",
    "\n",
    "```\n",
    "TAC\n",
    "GAG\n",
    "GAC\n",
    "```"
   ]
  },
  {
   "cell_type": "markdown",
   "id": "98f21d56",
   "metadata": {},
   "source": [
    "### ✍️ Exercise: your turn!\n",
    "Write a function `bmi(weight_kg, height_m)` that returns the Body‑Mass Index, *rounded to 1 decimal*.  \n",
    "Then call it with **(70 kg, 1.75 m)**.\n",
    "\n",
    "Hint: use the `round(value, ndigits)` function."
   ]
  },
  {
   "cell_type": "code",
   "execution_count": null,
   "id": "157f259a",
   "metadata": {},
   "outputs": [],
   "source": [
    "# write your code here\n",
    "\n",
    "def bmi(weight_kg, height_m):\n",
    "    return round(weight_kg / (height_m ** 2), 1)\n",
    "\n",
    "print(bmi(70, 1.75))"
   ]
  },
  {
   "cell_type": "markdown",
   "id": "e8a9de93",
   "metadata": {},
   "source": [
    "---\n",
    "## 4. If/Else ‑ Flow... decisions..."
   ]
  },
  {
   "cell_type": "markdown",
   "id": "4a904daf",
   "metadata": {},
   "source": [
    "\n",
    "**Concept: Control Flow**\n",
    "\n",
    "Control flow statements allow your program to **make decisions** and **branch** into different paths depending on conditions.\n",
    "\n",
    "These statements let your code **respond** to data — like a GPS recalculating your route based on traffic or wrong turns.\n",
    "\n",
    "**Key Keywords**\n",
    "\n",
    "- `if`: the primary gate — only runs the code block if the condition is `True`\n",
    "- `elif`: (else if) — test an additional condition if the previous one was `False`\n",
    "- `else`: fallback — runs only if all above conditions are `False`\n",
    "\n",
    "---\n",
    "\n",
    "**How it works**\n",
    "\n",
    "```python\n",
    "intensity = 120\n",
    "\n",
    "if intensity > 200:\n",
    "    print(\"Very bright image\")\n",
    "elif intensity > 100:\n",
    "    print(\"Moderately bright image\")\n",
    "else:\n",
    "    print(\"Dark image\")\n",
    "```\n",
    "---\n",
    "\n",
    "**Truthiness in Python**\n",
    "\n",
    "In Python, not just `True` and `False` matter — **any object** can be evaluated in a boolean context:\n",
    "\n",
    "| Value                          | Boolean Equivalent |\n",
    "|-------------------------------|--------------------|\n",
    "| `0`, `0.0`, `''`, `[]`, `{}`  | `False`            |\n",
    "| Non‑zero numbers, non‑empty strings/lists | `True`    |\n",
    "\n",
    "```python\n",
    "if []:\n",
    "    print(\"This won't run.\")\n",
    "if [1, 2, 3]:\n",
    "    print(\"This will!\")  # Lists with items are truthy\n",
    "```\n",
    "\n",
    "---\n"
   ]
  },
  {
   "cell_type": "markdown",
   "id": "470f056b",
   "metadata": {},
   "source": [
    "### ✍️ Exercise: your turn!\n",
    "Write a function that classifies cells based on their size and intensity.\n",
    "\n",
    "The function should take two arguments:\n",
    "\n",
    "* `size`: the size of the cell (in µm²)\n",
    "* `intensity`: the intensity of the cell (in a.u., a fluorescence unit)\n",
    "\n",
    "The function should return 4 possible outputs:\n",
    "\n",
    "* \"Large & Active\" if the cell is both large and fluorescent\n",
    "* \"Large & Inactive\" if the cell is large but not fluorescent\n",
    "* \"Small & Active\" if the cell is small and fluorescent\n",
    "* \"Small & Inactive\" if the cell is small and not fluorescent\n",
    "\n",
    "Try running the function with the following inputs:\n",
    "```python\n",
    "print(classify_cell(120, 50))   # → Large & Active\n",
    "print(classify_cell(50, 0.3))    # → Small & Inactive\n",
    "print(classify_cell(130, 12))   # → Large & Inactive\n",
    "print(classify_cell(80, 75))    # → Small & Active\n",
    "```\n",
    "\n",
    "Hint: use the `if`/`elif`/`else` structure to check the conditions."
   ]
  },
  {
   "cell_type": "code",
   "execution_count": null,
   "id": "0e7a947e",
   "metadata": {},
   "outputs": [],
   "source": [
    "# write your code here\n",
    "\n",
    "def classify_cell(size, intensity):\n",
    "    \"\"\"\n",
    "    Classify a cell based on its size and intensity.\n",
    "    - Large = size > 100\n",
    "    - Active = intensity > 25\n",
    "    \"\"\"\n",
    "    if size > 100 and intensity > 25:\n",
    "        return \"Large & Active\"\n",
    "    elif size > 100:\n",
    "        return \"Large & Inactive\"\n",
    "    elif intensity > 25:\n",
    "        return \"Small & Active\"\n",
    "    else:\n",
    "        return \"Small & Inactive\""
   ]
  },
  {
   "cell_type": "markdown",
   "id": "16109e0e",
   "metadata": {},
   "source": [
    "### ✍️ Exercise: guess the output!\n",
    "\n",
    "Predict what will be printed:\n",
    "\n",
    "```python\n",
    "def special_cell_classifier(size, intensity, roundness):\n",
    "    \"\"\"What does this function do?\"\"\"\n",
    "    if size > 100 and intensity > 25:\n",
    "        return \"Proliferating\"\n",
    "    elif size <= 100 and roundness > 0.85:\n",
    "        return \"Resting\"\n",
    "    elif intensity < 0.2 or roundness < 0.2:\n",
    "        return \"Likely debris\"\n",
    "    else:\n",
    "        size_label = \"Large\" if size > 100 else \"Small\"\n",
    "        activity_label = \"Active\" if intensity > 25 else \"Inactive\"\n",
    "        shape_label = \"Round\" if roundness > 0.85 else \"Irregular\"\n",
    "        return size_label + \" & \" + activity_label + \" & \" + shape_label\n",
    "```\n",
    "\n",
    "What will the following code print?\n",
    "```python\n",
    "print(special_cell_classifier(120, 50, 0.9))\n",
    "print(special_cell_classifier(50, 0.3, 0.2))\n",
    "print(special_cell_classifier(130, 0.4, 0.2))\n",
    "print(special_cell_classifier(80, 125, 0.85))\n",
    "```"
   ]
  },
  {
   "cell_type": "markdown",
   "id": "0d1de0c7",
   "metadata": {},
   "source": [
    "Output:\n",
    "```\n",
    "Proliferating\n",
    "Likely debris\n",
    "Likely debris\n",
    "Large & Active & Round\n",
    "```"
   ]
  },
  {
   "cell_type": "markdown",
   "id": "992eb6f4",
   "metadata": {},
   "source": [
    "---\n",
    "## 5. For Loops ‑ Repetition made easy"
   ]
  },
  {
   "cell_type": "markdown",
   "id": "381344b3",
   "metadata": {},
   "source": [
    "**Concept.**  \n",
    "`for` loops iterate over *iterables*: lists, strings, ranges, files, generators…\n",
    "\n",
    "Why loops matter:\n",
    "\n",
    "* Automate repetition.  \n",
    "* Enable algorithms like searching and aggregation.\n",
    "\n",
    "Pythonic looping embraces **iteration** over indices:\n",
    "\n",
    "```python\n",
    "for char in \"python\":\n",
    "    print(char)\n",
    "```\n",
    "\n",
    "or \n",
    "\n",
    "```python\n",
    "intensities = [10, 50, 90, 120, 250]\n",
    "\n",
    "for intensity in intensities:\n",
    "    if intensity > 200:\n",
    "        print(\"High intensity\")\n",
    "    else:\n",
    "        print(\"Normal intensity\")\n",
    "```"
   ]
  },
  {
   "cell_type": "markdown",
   "id": "469bc45a",
   "metadata": {},
   "source": [
    " ### ✍️ Exercise: guess the output!\n",
    " Predict what will be printed:\n",
    " ```python\n",
    " def foo(lst):\n",
    "     \"\"\"What does this function do?\"\"\"\n",
    "     new_lst = []\n",
    "    for i in range(len(lst)-1, -1, -1):\n",
    "        new_lst.append(lst[i])\n",
    "    return new_lst\n",
    "\n",
    "numbers = [1, 2, 3, 4, 5]\n",
    "print(f\"Original list: {numbers}\")\n",
    "\n",
    "new_numbers = foo(numbers)\n",
    "print(f\"New list: {new_numbers}\")\n",
    "```\n",
    "Output:\n",
    "Original list: [1, 2, 3, 4, 5]\n",
    "Reversed list: [5, 4, 3, 2, 1] \n",
    "Original list unchanged: [1, 2, 3, 4, 5]\n",
    "\n",
    "*Think about what the function does. How is the output achieved with the `for` loop?*"
   ]
  },
  {
   "cell_type": "markdown",
   "id": "b7757983",
   "metadata": {},
   "source": [
    "### ✍️ Exercise: your turn!\n",
    "Write a loop that goes through:\n",
    "\n",
    "`images = {'img1.tif': 1000, 'img2.tif': 2240, 'img3.tif': 3000}`\n",
    "\n",
    "And processes each image by checking if it's a large image:\n",
    "Hint: use a `for` loop to iterate over the dictionary, and use the `items()` method to get the key-value pairs.\n"
   ]
  },
  {
   "cell_type": "code",
   "execution_count": null,
   "id": "7abf6744",
   "metadata": {},
   "outputs": [],
   "source": [
    "images = {'img1.tif': 1000, 'img2.tif': 2240, 'img3.tif': 3000}\n",
    "\n",
    "for image, size in images.items():\n",
    "    print(f\"Processing {image}\")\n",
    "    # check the size of the image\n",
    "    if size > 1000:\n",
    "        print(f\"{image} is a large image\")\n",
    "    else:\n",
    "        print(f\"{image} is a small image\")"
   ]
  },
  {
   "cell_type": "markdown",
   "id": "9352a396",
   "metadata": {},
   "source": [
    "---\n",
    "## 6. Mini project: organize your image files\n",
    "\n",
    "Let's create a program that analyzes metadata from microscopy images to help organize and validate your dataset.\n",
    " \n",
    "You'll work with a dictionary of image metadata containing:\n",
    "- Image names\n",
    "- Microscope settings (magnification, exposure time)\n",
    "- Sample information (cell type, staining)\n",
    " \n",
    "**Tasks:**\n",
    "1. Create a dictionary of image metadata\n",
    "2. Write functions to:\n",
    "    - Check if exposure times are within acceptable range\n",
    "    - Group images by cell type\n",
    "    - Calculate average exposure time per magnification\n",
    "3. Use loops and conditionals to process the metadata\n",
    "4. Print summary statistics about your dataset\n"
   ]
  },
  {
   "cell_type": "code",
   "execution_count": 1,
   "id": "41a29320",
   "metadata": {},
   "outputs": [
    {
     "name": "stdout",
     "output_type": "stream",
     "text": [
      "Checking exposure times:\n",
      "img1.tif has valid exposure time: 100\n",
      "img2.tif has valid exposure time: 150\n",
      "img3.tif has valid exposure time: 200\n",
      "\n",
      "Images grouped by cell type:\n",
      "neuron: ['img1.tif', 'img3.tif']\n",
      "astrocyte: ['img2.tif']\n",
      "\n",
      "Average exposure times by magnification:\n",
      "40x: 150.0ms\n",
      "60x: 150.0ms\n"
     ]
    }
   ],
   "source": [
    "# dictionary of image metadata\n",
    "image_metadata = {\n",
    "    'img1.tif': {\n",
    "        'magnification': 40,\n",
    "        'exposure_time': 100,\n",
    "        'cell_type': 'neuron',\n",
    "        'staining': 'DAPI'\n",
    "    },\n",
    "    'img2.tif': {\n",
    "        'magnification': 60,\n",
    "        'exposure_time': 150,\n",
    "        'cell_type': 'astrocyte', \n",
    "        'staining': 'GFP'\n",
    "    },\n",
    "    'img3.tif': {\n",
    "        'magnification': 40,\n",
    "        'exposure_time': 200,\n",
    "        'cell_type': 'neuron',\n",
    "        'staining': 'DAPI'\n",
    "    }\n",
    "}\n",
    "\n",
    "# solution to the mini project\n",
    "\n",
    "def check_exposure_times(metadata, min_exposure=50, max_exposure=250):\n",
    "    \"\"\"Check if exposure times are within acceptable range\"\"\"\n",
    "    for img_name, img_data in metadata.items():\n",
    "        exposure = img_data['exposure_time']\n",
    "        if exposure < min_exposure or exposure > max_exposure:\n",
    "            print(f\"Warning: {img_name} has exposure time {exposure} outside acceptable range\")\n",
    "        else:\n",
    "            print(f\"{img_name} has valid exposure time: {exposure}\")\n",
    "\n",
    "def group_by_cell_type(metadata):\n",
    "    \"\"\"Group images by cell type\"\"\"\n",
    "    cell_type_groups = {}\n",
    "    for img_name, img_data in metadata.items():\n",
    "        cell_type = img_data['cell_type']\n",
    "        if cell_type not in cell_type_groups:\n",
    "            cell_type_groups[cell_type] = []\n",
    "        cell_type_groups[cell_type].append(img_name)\n",
    "    return cell_type_groups\n",
    "\n",
    "def average_exposure_by_magnification(metadata):\n",
    "    \"\"\"Calculate average exposure time per magnification\"\"\"\n",
    "    mag_exposures = {}\n",
    "    mag_counts = {}\n",
    "    \n",
    "    for img_data in metadata.values():\n",
    "        mag = img_data['magnification']\n",
    "        exposure = img_data['exposure_time']\n",
    "        \n",
    "        if mag not in mag_exposures:\n",
    "            mag_exposures[mag] = 0\n",
    "            mag_counts[mag] = 0\n",
    "            \n",
    "        mag_exposures[mag] += exposure\n",
    "        mag_counts[mag] += 1\n",
    "    \n",
    "    return {mag: mag_exposures[mag] / mag_counts[mag] \n",
    "            for mag in mag_exposures}\n",
    "\n",
    "# Process the metadata and print summary statistics\n",
    "print(\"Checking exposure times:\")\n",
    "check_exposure_times(image_metadata)\n",
    "\n",
    "print(\"\\nImages grouped by cell type:\")\n",
    "cell_groups = group_by_cell_type(image_metadata)\n",
    "for cell_type, images in cell_groups.items():\n",
    "    print(f\"{cell_type}: {images}\")\n",
    "\n",
    "print(\"\\nAverage exposure times by magnification:\")\n",
    "avg_exposures = average_exposure_by_magnification(image_metadata)\n",
    "for mag, avg_exposure in avg_exposures.items():\n",
    "    print(f\"{mag}x: {avg_exposure:.1f}ms\")\n"
   ]
  },
  {
   "cell_type": "markdown",
   "id": "3f7904a4",
   "metadata": {},
   "source": [
    "---\n",
    "\n",
    "## Where to go next?\n",
    "\n",
    "* **Introduction to digital images** – `numpy`, `matplotlib`.  \n",
    "\n",
    "> “Programs must be written for people to read, and only incidentally for machines to execute.”  \n",
    "> — *Harold Abelson*  \n"
   ]
  }
 ],
 "metadata": {
  "kernelspec": {
   "display_name": "base",
   "language": "python",
   "name": "python3"
  },
  "language_info": {
   "codemirror_mode": {
    "name": "ipython",
    "version": 3
   },
   "file_extension": ".py",
   "mimetype": "text/x-python",
   "name": "python",
   "nbconvert_exporter": "python",
   "pygments_lexer": "ipython3",
   "version": "3.11.9"
  }
 },
 "nbformat": 4,
 "nbformat_minor": 5
}
